{
 "cells": [
  {
   "cell_type": "markdown",
   "metadata": {},
   "source": [
    "## Incorporate time preference shocks\n",
    "\n",
    "The code can be easily modified to incorporate time preference shocks. Please see the latest commit.\n",
    "\n",
    "However, because the time preference shocks are estimated to be much more volatile than the consumption growth, we will have trouble getting an acurate estimate of $r(K)$ by simulation."
   ]
  },
  {
   "cell_type": "code",
   "execution_count": 83,
   "metadata": {},
   "outputs": [],
   "source": [
    "include(\"src/stability_coefficients.jl\")\n",
    "\n",
    "ez = EpsteinZinSSY()\n",
    "cp = SSYConsumption()\n",
    "θ, β, γ = ez.θ, ez.β, ez.γ;"
   ]
  },
  {
   "cell_type": "code",
   "execution_count": 78,
   "metadata": {},
   "outputs": [
    {
     "name": "stdout",
     "output_type": "stream",
     "text": [
      "0.9519"
     ]
    }
   ],
   "source": [
    "@printf \"%.4f\" compute_spec_rad_coef(ez, cp, M=1000, N=1000)"
   ]
  },
  {
   "cell_type": "code",
   "execution_count": 79,
   "metadata": {},
   "outputs": [
    {
     "name": "stdout",
     "output_type": "stream",
     "text": [
      "0.9949"
     ]
    }
   ],
   "source": [
    "@printf \"%.4f\" compute_spec_rad_coef(ez, cp, M=1000, N=100000)"
   ]
  },
  {
   "cell_type": "code",
   "execution_count": 80,
   "metadata": {},
   "outputs": [
    {
     "name": "stdout",
     "output_type": "stream",
     "text": [
      "0.9292"
     ]
    }
   ],
   "source": [
    "@printf \"%.4f\" compute_spec_rad_coef(ez, cp, M=100000, N=1000)"
   ]
  },
  {
   "cell_type": "markdown",
   "metadata": {},
   "source": [
    "I even tried setting $M = N = 300000$. It ran for 2 hours and the results is $0.996$. It's hard to tell which one is more accurate. Fortunately, for an AR(1) time preference shock process, it seems that we can get an analytical solution."
   ]
  },
  {
   "cell_type": "markdown",
   "metadata": {},
   "source": [
    "## Analytical solutions\n",
    "\n",
    "Since consumption growth and time preference shock are independent, the spectral radius can be written as:\n",
    "\\begin{align}\n",
    "    r(K) &= \\beta^\\theta \\lim_{N\\to\\infty} \\left\\{ \\sup_{x\\in\\mathbb{X}} \\mathbb{E}_x \\exp\\left[(1-\\gamma) \\ln \\left(\\frac{C_N}{C_0}\\right) + \\theta \\ln\\left(\\frac{\\lambda_N}{\\lambda_0}\\right) \\right] \\right\\}^{1/N}\\\\\n",
    "        &= \\beta^\\theta \\lim_{N\\to\\infty} \\left\\{ \\sup_{x\\in\\mathbb{X}} \\mathbb{E}_x \\exp\\left[(1-\\gamma) \\ln \\left(\\frac{C_N}{C_0}\\right)\\right]  \\sup_{x\\in\\mathbb{X}}\\mathbb{E}_x \\exp\\left[\\theta \\ln\\left(\\frac{\\lambda_N}{\\lambda_0}\\right) \\right] \\right\\}^{1/N}\\\\\n",
    "%        &= \\beta^\\theta \\lim_{N\\to\\infty} \\left\\{ \\lim_{M\\to\\infty} \\frac{1}{M} \\sum_{m=1}^M \\exp\\left[(1-\\gamma) \\sum_{n=1}^N \\ln\\left(\\frac{C_n^m}{C_{n-1}^m}\\right) + \\theta \\sum_{n=1}^N \\ln \\left(\\frac{\\lambda^m_n}{\\lambda^m_{n-1}}\\right) \\right] \\right\\}^{1/N}\\\\\n",
    "        &= r(\\tilde{K}) \\lim_{N\\to\\infty}\\left\\{\\sup_{x\\in\\mathbb{X}}\\mathbb{E}_x \\exp\\left[\\theta \\ln\\left(\\frac{\\lambda_N}{\\lambda_0}\\right) \\right] \\right\\}^{1/N}\\\\\n",
    "\\end{align}\n",
    "where $\\tilde{K}$ is the operator without time preference shocks. Assume that we know $r(\\tilde{K})$.\n",
    "\n",
    "Since $x_{n+1} := \\ln (\\lambda_{n+1}/\\lambda_n) = \\rho x_{n} + \\sigma \\eta_{n+1}$, we can write $\\sum_{n=1}^N x_{n}$ in terms of $x_0$ and $(\\eta_n)$:\n",
    "\\begin{align}\n",
    "    x_{N} &= & \\sigma \\eta_N + \\rho\\sigma\\eta_{N-1} + \\rho^2\\sigma\\eta_{N-2} + \\ldots + \\rho^{N-1}\\sigma\\eta_1 &+ \\rho^N x_{0}\\\\\n",
    "    x_{N-1} &= & \\sigma\\eta_{N-1} + \\rho\\sigma\\eta_{N-2} + \\ldots + \\rho^{N-2}\\sigma\\eta_1 &+ \\rho^{N-1} x_{0}\\\\\n",
    "    x_{N-2} &= & \\sigma\\eta_{N-2} + \\ldots + \\rho^{N-3}\\sigma\\eta_1 &+ \\rho^{N-2} x_0\\\\\n",
    "     \\ldots & &\\ldots&\\\\\n",
    "    x_{1} &= & \\sigma\\eta_1 &+ \\rho x_{0}\n",
    "\\end{align}\n",
    "so \n",
    "\\begin{equation}\n",
    "    \\sum_{n=1}^N x_{n} = \\sigma\\eta_N + (1+\\rho)\\sigma\\eta_{N-1} + (1+\\rho+\\rho^2)\\sigma\\eta_{N-2} + \\ldots + (1+\\rho+\\ldots+\\rho^{N-1})\\sigma\\eta_1 + (\\rho+\\rho^2+\\ldots+\\rho^N)x_{0}.\n",
    "\\end{equation}\n",
    "\n",
    "Hence, $\\theta \\ln(\\lambda_N/\\lambda_0)$ follows a normal distribution with\n",
    "\\begin{align}\n",
    "    \\mu_N &:= (\\rho+\\rho^2+\\ldots+\\rho^N)x_{0}\\\\\n",
    "    \\sigma_N^2 &:= \\theta^2\\sigma^2\\left[1 + (1+\\rho)^2 + \\ldots + (1 + \\rho + \\ldots + \\rho^{N-1})^2\\right].\n",
    "\\end{align}\n",
    "Then, as a lognormal distribution\n",
    "$$\\mathbb{E}_x \\exp\\left[\\theta \\ln\\left(\\frac{\\lambda_N}{\\lambda_0}\\right) \\right] = \\exp\\left(\\mu_N + \\sigma_N^2/2\\right).$$\n",
    "As long as $x_{0}$ is finite, as $N\\to\\infty$, the effect of $x_{0}$ dies out and we have\n",
    "$$r(K)^{1/\\theta} = r(\\tilde{K})^{1/\\theta} \\left(\\lim_{N\\to\\infty}e^{\\sigma_N/2N}\\right)^{1/\\theta}.$$\n",
    "\n",
    "I think the analytical solution of $r(\\tilde{K})$ can be derived in a similar way, but I haven't tried. The estimated one seems accurate enough."
   ]
  },
  {
   "cell_type": "code",
   "execution_count": 90,
   "metadata": {},
   "outputs": [
    {
     "name": "stdout",
     "output_type": "stream",
     "text": [
      "0.1486"
     ]
    }
   ],
   "source": [
    "ρ, σ = cp.ρ_λ, cp.σ_λ\n",
    "N = 10000000\n",
    "variance = 1.0\n",
    "for n in 2:N\n",
    "    variance += (1-ρ^n)^2/(1-ρ)^2\n",
    "end\n",
    "variance = θ^2 * σ^2 * variance\n",
    "\n",
    "@printf \"%.4f\" (compute_spec_rad_coef(ez, cp, time=false) * exp(variance/2N))^(1/θ)"
   ]
  },
  {
   "cell_type": "markdown",
   "metadata": {},
   "source": [
    "This is much smaller than the simulation results above. I thought I might have made an error somewhere, but I couldn't find any. My guess is that estimating the expectation of a lognormal random variable by simulation is very hard to achieve, especially for large $\\sigma$. See the following example."
   ]
  },
  {
   "cell_type": "code",
   "execution_count": 86,
   "metadata": {},
   "outputs": [
    {
     "name": "stdout",
     "output_type": "stream",
     "text": [
      "estimate:          1.9130e+17\n",
      "theoretical mean:  5.1847e+21\n"
     ]
    }
   ],
   "source": [
    "N = 100000000\n",
    "σ = 10\n",
    "srand(1234)\n",
    "sim = σ*randn(N);\n",
    "@printf \"estimate: %19.4e\\n\" mean(exp.(sim))\n",
    "@printf \"theoretical mean: %11.4e\\n\" exp(σ^2/2)"
   ]
  },
  {
   "cell_type": "markdown",
   "metadata": {},
   "source": [
    "However, for smaller $\\sigma$, simulation works just fine."
   ]
  },
  {
   "cell_type": "code",
   "execution_count": 89,
   "metadata": {},
   "outputs": [
    {
     "name": "stdout",
     "output_type": "stream",
     "text": [
      "estimate:          3.0874\n",
      "theoretical mean:  3.0802\n"
     ]
    }
   ],
   "source": [
    "N = 1000000\n",
    "σ = 1.5\n",
    "srand(1234)\n",
    "sim = σ*randn(N);\n",
    "@printf \"estimate: %15.4f\\n\" mean(exp.(sim))\n",
    "@printf \"theoretical mean: %7.4f\\n\" exp(σ^2/2)"
   ]
  }
 ],
 "metadata": {
  "kernelspec": {
   "display_name": "Julia 0.6.1",
   "language": "julia",
   "name": "julia-0.6"
  },
  "language_info": {
   "file_extension": ".jl",
   "mimetype": "application/julia",
   "name": "julia",
   "version": "0.6.2"
  }
 },
 "nbformat": 4,
 "nbformat_minor": 2
}
